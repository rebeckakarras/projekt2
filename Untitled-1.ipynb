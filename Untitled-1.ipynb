{
 "cells": [
  {
   "cell_type": "code",
   "execution_count": 51,
   "metadata": {},
   "outputs": [],
   "source": [
    "import numpy as np\n",
    "import pandas as pd\n",
    "import seaborn as sns\n",
    "import matplotlib.pyplot as plt"
   ]
  },
  {
   "cell_type": "code",
   "execution_count": 5,
   "metadata": {},
   "outputs": [
    {
     "name": "stdout",
     "output_type": "stream",
     "text": [
      "[[0. 0. 0. 0. 0. 0. 0. 0. 0. 0.]\n",
      " [0. 0. 0. 0. 0. 0. 0. 0. 0. 0.]\n",
      " [0. 0. 0. 0. 0. 0. 0. 0. 0. 0.]\n",
      " [0. 0. 0. 0. 0. 0. 0. 0. 0. 0.]\n",
      " [0. 0. 0. 0. 0. 0. 0. 0. 0. 0.]\n",
      " [0. 0. 0. 0. 0. 0. 0. 0. 0. 0.]\n",
      " [0. 0. 0. 0. 0. 0. 0. 0. 0. 0.]\n",
      " [0. 0. 0. 0. 0. 0. 0. 0. 0. 0.]\n",
      " [0. 0. 0. 0. 0. 0. 0. 0. 0. 0.]\n",
      " [0. 0. 0. 0. 0. 0. 0. 0. 0. 0.]]\n"
     ]
    }
   ],
   "source": [
    "a = np.zeros([10,10])\n",
    "print(a)"
   ]
  },
  {
   "cell_type": "code",
   "execution_count": 22,
   "metadata": {},
   "outputs": [
    {
     "name": "stdout",
     "output_type": "stream",
     "text": [
      "(array([ 5,  6,  7,  8,  9, 10]),)\n"
     ]
    },
    {
     "data": {
      "text/plain": [
       "array([1, 2])"
      ]
     },
     "execution_count": 22,
     "metadata": {},
     "output_type": "execute_result"
    }
   ],
   "source": [
    "a = np.arange(1,12 )\n",
    "print(np.where(a > 5))\n",
    "\n",
    "b = np.array([1,2])\n"
   ]
  },
  {
   "cell_type": "code",
   "execution_count": 28,
   "metadata": {},
   "outputs": [
    {
     "name": "stdout",
     "output_type": "stream",
     "text": [
      "[[ 1  2  3]\n",
      " [ 5  6  7]\n",
      " [ 8  9 10]]\n"
     ]
    },
    {
     "data": {
      "text/plain": [
       "array([ 6, 18, 27])"
      ]
     },
     "execution_count": 28,
     "metadata": {},
     "output_type": "execute_result"
    }
   ],
   "source": [
    "a = np.array([[1,2,3],[5,6,7],[8,9,10]])\n",
    "print(a)\n",
    "a[::2,1::2]\n",
    "a.sum(axis=1)"
   ]
  },
  {
   "cell_type": "code",
   "execution_count": 31,
   "metadata": {},
   "outputs": [
    {
     "data": {
      "text/plain": [
       "'nevada'"
      ]
     },
     "execution_count": 31,
     "metadata": {},
     "output_type": "execute_result"
    }
   ],
   "source": [
    "data = {'state': ['Ohio', 'nevada'],\n",
    "        'year': ['2000', '2001'],\n",
    "        'pop': ['1.5', '2']} #dictionary \n",
    "frame = pd.DataFrame(data)\n",
    "frame.loc[1,'state']"
   ]
  },
  {
   "cell_type": "code",
   "execution_count": 47,
   "metadata": {},
   "outputs": [
    {
     "name": "stdout",
     "output_type": "stream",
     "text": [
      "     survived     sex   age  n_siblings_spouses  parch     fare   class  \\\n",
      "0           0    male  22.0                   1      0   7.2500   Third   \n",
      "1           1  female  38.0                   1      0  71.2833   First   \n",
      "2           1  female  26.0                   0      0   7.9250   Third   \n",
      "3           1  female  35.0                   1      0  53.1000   First   \n",
      "4           0    male  28.0                   0      0   8.4583   Third   \n",
      "..        ...     ...   ...                 ...    ...      ...     ...   \n",
      "622         0    male  28.0                   0      0  10.5000  Second   \n",
      "623         0    male  25.0                   0      0   7.0500   Third   \n",
      "624         1  female  19.0                   0      0  30.0000   First   \n",
      "625         0  female  28.0                   1      2  23.4500   Third   \n",
      "626         0    male  32.0                   0      0   7.7500   Third   \n",
      "\n",
      "        deck  embark_town alone  \n",
      "0    unknown  Southampton     n  \n",
      "1          C    Cherbourg     n  \n",
      "2    unknown  Southampton     y  \n",
      "3          C  Southampton     n  \n",
      "4    unknown   Queenstown     y  \n",
      "..       ...          ...   ...  \n",
      "622  unknown  Southampton     y  \n",
      "623  unknown  Southampton     y  \n",
      "624        B  Southampton     y  \n",
      "625  unknown  Southampton     n  \n",
      "626  unknown   Queenstown     y  \n",
      "\n",
      "[627 rows x 10 columns]\n",
      "217\n",
      "Survival rate in First class of 63.5%\n",
      "Survival rate in Second class of 45.7%\n",
      "Survival rate in Third class of 24.6%\n"
     ]
    }
   ],
   "source": [
    "titanic = pd.read_csv(\"https://storage.googleapis.com/tf-datasets/titanic/train.csv\")\n",
    "print(titanic)\n",
    "\n",
    "print(len(titanic[titanic.sex=='female']))\n",
    "\n",
    "for class_nr in titanic['class'].sort_values().unique():\n",
    "    survivors = titanic[titanic['class']==class_nr].survived.sum()\n",
    "    passengers = len(titanic[titanic['class']==class_nr])\n",
    "    survival_rate = survivors/passengers*100\n",
    "    print('Survival rate in {} class of {:.1f}%'.format(class_nr, survival_rate))\n"
   ]
  },
  {
   "cell_type": "code",
   "execution_count": 50,
   "metadata": {},
   "outputs": [
    {
     "data": {
      "text/plain": [
       "<Axes: xlabel='Spending_USD', ylabel='Life_Expectancy'>"
      ]
     },
     "execution_count": 50,
     "metadata": {},
     "output_type": "execute_result"
    },
    {
     "data": {
      "image/png": "[encoded data removed]",
      "text/plain": [
       "<Figure size 640x480 with 1 Axes>"
      ]
     },
     "metadata": {},
     "output_type": "display_data"
    }
   ],
   "source": [
    "health = sns.load_dataset(\"healthexp\")\n",
    "health.plot.scatter('Spending_USD',\n",
    "'Life_Expectancy')"
   ]
  },
  {
   "cell_type": "code",
   "execution_count": 55,
   "metadata": {},
   "outputs": [
    {
     "name": "stdout",
     "output_type": "stream",
     "text": [
      "1699557.0156585819\n"
     ]
    }
   ],
   "source": [
    "#p=nrt/V\n",
    "\n",
    "n = 1.220\n",
    "V = 1.6285/1000\n",
    "R = 8.31\n",
    "T = 273\n",
    "\n",
    "P = (n*R*T/V)\n",
    "print(P)"
   ]
  },
  {
   "cell_type": "code",
   "execution_count": 61,
   "metadata": {},
   "outputs": [
    {
     "name": "stdout",
     "output_type": "stream",
     "text": [
      "84.20213774008353\n",
      "84.20213774008353\n"
     ]
    }
   ],
   "source": [
    "import math\n",
    "\n",
    "print(math.hypot(23,81))\n",
    "hypo = math.sqrt((23)**2+81**2)\n",
    "print(hypo)"
   ]
  },
  {
   "cell_type": "code",
   "execution_count": 65,
   "metadata": {},
   "outputs": [
    {
     "name": "stdout",
     "output_type": "stream",
     "text": [
      "32\n"
     ]
    }
   ],
   "source": [
    "x = 12 \n",
    "while x < 32:\n",
    "    x += 1\n",
    "\n",
    "print(x)"
   ]
  },
  {
   "cell_type": "code",
   "execution_count": 79,
   "metadata": {},
   "outputs": [
    {
     "name": "stdout",
     "output_type": "stream",
     "text": [
      "NaK\n",
      "UP\n",
      "NKrlOP\n"
     ]
    }
   ],
   "source": [
    "e = 'NaKBrClNOUP' \n",
    "print(e[0:3])\n",
    "print(e[9:11])\n",
    "print(e[0::2])"
   ]
  },
  {
   "cell_type": "code",
   "execution_count": 85,
   "metadata": {},
   "outputs": [
    {
     "name": "stdout",
     "output_type": "stream",
     "text": [
      "true\n"
     ]
    }
   ],
   "source": [
    "\n",
    "def ispalidrome(DNA):\n",
    "   return DNA == DNA[::-1]\n",
    "\n",
    "DNA = 'ATTCGCCGCTTA'\n",
    "ans = ispalidrome(DNA)\n",
    "\n",
    "if ans: \n",
    "   print('true')\n",
    "else:\n",
    "   print('false')\n"
   ]
  },
  {
   "cell_type": "code",
   "execution_count": 122,
   "metadata": {},
   "outputs": [
    {
     "name": "stdout",
     "output_type": "stream",
     "text": [
      "range(18, 89)\n",
      "[18, 19, 20, 21, 22, 23, 24, 25, 26, 27, 28, 29, 30, 31, 32, 33, 34, 35, 36, 37, 38, 39, 40, 41, 42, 43, 44, 45, 46, 47, 48, 49, 50, 51, 52, 53, 54, 55, 56, 57, 58, 59, 60, 61, 62, 63, 64, 65, 66, 67, 68, 69, 70, 71, 72, 73, 74, 75, 76, 77, 78, 79, 80, 81, 82, 83, 84, 85, 86, 87, 88]\n",
      "[88, 87, 86, 85, 84, 83, 82, 81, 80, 79, 78, 77, 76, 75, 74, 73, 72, 71, 70, 69, 68, 67, 66, 65, 64, 63, 62, 61, 60, 59, 58, 57, 56, 55, 54, 53, 52, 51, 50, 49, 48, 47, 46, 45, 44, 43, 42, 41, 40, 39, 38, 37, 36, 35, 34, 33, 32, 31, 30, 29, 28, 27, 26, 25, 24, 23, 22, 21, 20, 19, 18]\n",
      "[88, 87, 86, 85, 84, 83, 82, 81, 80, 79, 78, 77, 76, 75, 74, 73, 72, 71, 70, 69, 68, 67, 66, 65, 64, 63, 62, 61, 60, 59, 58, 57, 56, 55, 54, 53, 52, 51, 50, 49, 48, 47, 46, 45, 44, 43, 42, 41, 40, 39, 38, 37, 36, 35, 34, 33, 32, 31, 30, 29, 28, 27, 26, 25, 24, 23, 22, 21, 20, 19]\n",
      "[88, 87, 86, 85, 84, 83, 82, 81, 80, 79, 78, 77, 76, 75, 74, 73, 72, 71, 70, 69, 68, 67, 66, 65, 64, 63, 62, 61, 60, 59, 58, 57, 56, 55, 54, 53, 52, 51, 50, 49, 48, 47, 46, 45, 44, 43, 42, 41, 40, 39, 38, 37, 36, 35, 34, 33, 32, 31, 30, 29, 28, 27, 26, 25, 24, 23, 22, 21, 20, 19, 16]\n"
     ]
    }
   ],
   "source": [
    "x = range(18,89,1)\n",
    "print(x)\n",
    "lst = []\n",
    "for i in x:\n",
    "    lst.append(i)\n",
    "print(lst)\n",
    "lst.reverse()\n",
    "print(lst)\n",
    "lst.pop()\n",
    "print(lst)\n",
    "lst.append(16)\n",
    "print(lst)\n",
    "\n"
   ]
  },
  {
   "cell_type": "code",
   "execution_count": 124,
   "metadata": {},
   "outputs": [
    {
     "name": "stdout",
     "output_type": "stream",
     "text": [
      "(18, 20, 22, 24, 26, 28, 30, 32, 34, 36, 38, 40, 42, 44, 46, 48, 50, 52, 54, 56, 58, 60, 62, 64, 66, 68, 70, 72, 74, 76, 78, 80, 82, 84, 86, 88, 90, 92, 94, 96, 98, 100, 102, 104, 106, 108, 110, 112, 114, 116, 118, 120, 122, 124, 126, 128, 130, 132, 134, 136, 138, 140, 142, 144, 146, 148, 150, 152, 154, 156, 158, 160, 162, 164, 166, 168, 170, 172, 174, 176, 178, 180, 182, 184, 186, 188, 190, 192, 194, 196, 198, 200, 202, 204, 206, 208, 210, 212, 214, 216, 218, 220, 222, 224, 226, 228, 230, 232, 234, 236, 238, 240, 242, 244, 246, 248, 250, 252, 254, 256, 258, 260, 262, 264, 266, 268, 270, 272, 274, 276, 278, 280, 282, 284, 286, 288, 290, 292, 294, 296, 298, 300, 302, 304, 306, 308, 310, 312, 314, 316, 318, 320)\n"
     ]
    }
   ],
   "source": [
    "lst = tuple(range(18,321,2))\n",
    "print(lst)"
   ]
  },
  {
   "cell_type": "code",
   "execution_count": 127,
   "metadata": {},
   "outputs": [
    {
     "name": "stdout",
     "output_type": "stream",
     "text": [
      "PV=nrt\n",
      "PV=nrt\n",
      "PV=nrt\n",
      "PV=nrt\n",
      "PV=nrt\n"
     ]
    }
   ],
   "source": [
    "string = 'PV=nrt'\n",
    "\n",
    "for i in range(5):\n",
    "    print(string)"
   ]
  },
  {
   "cell_type": "code",
   "execution_count": 133,
   "metadata": {},
   "outputs": [
    {
     "name": "stdout",
     "output_type": "stream",
     "text": [
      "6.0\n"
     ]
    }
   ],
   "source": [
    "#The isotope 137Cs has a half-life of about 30.2 years. Using a while loop, determine how many half-lives until a 500.0 g sample would have to decay until there is less that 10.00 grams left. Create a counter (counter = 0) and add 1 to it each cycle of the while loop to keep count\n",
    "\n",
    "start = 500 #grams\n",
    "finish = 10 #grams\n",
    "halflife = 30.2 #years\n",
    "counter = 0\n",
    "\n",
    "while start > finish:\n",
    "    start = start/2\n",
    "    counter += halflife \n",
    "\n",
    "print(counter/halflife)  \n"
   ]
  },
  {
   "cell_type": "code",
   "execution_count": 173,
   "metadata": {},
   "outputs": [
    {
     "data": {
      "text/plain": [
       "[<matplotlib.lines.Line2D at 0x15c6d5a00>,\n",
       " <matplotlib.lines.Line2D at 0x15c70e000>,\n",
       " <matplotlib.lines.Line2D at 0x15c70e0c0>]"
      ]
     },
     "execution_count": 173,
     "metadata": {},
     "output_type": "execute_result"
    },
    {
     "data": {
      "image/png": "[encoded data removed]",
      "text/plain": [
       "<Figure size 640x480 with 1 Axes>"
      ]
     },
     "metadata": {},
     "output_type": "display_data"
    }
   ],
   "source": [
    "def boltzmann(E, T):\n",
    "    '''\n",
    "    Calculate the Boltzmann distribtion.\n",
    "    \n",
    "    Args:\n",
    "        E (float): Energy in kJ/mol.\n",
    "        T (float): Temperature in Kelvin.\n",
    "\n",
    "    Returns:\n",
    "        float: Boltzmann distribution.\n",
    "    '''\n",
    "\n",
    "    k = 1.38*10**(-23)\n",
    "    return math.exp(-E/(k*T))\n",
    "\n",
    "\n",
    "E = np.linspace(0,5e-21,500)\n",
    "T = [100,200,500]\n",
    "boltzmann_dict = {100:[],200:[],500:[]}\n",
    "boltzmann_lst = []\n",
    "boltzmann_lst2 = []\n",
    "boltzmann_lst3 = []\n",
    "\n",
    "for energy in E: \n",
    "    boltzmann_lst.append(boltzmann(energy,100))\n",
    "    boltzmann_lst2.append(boltzmann(energy,200))\n",
    "    boltzmann_lst3.append(boltzmann(energy,500))\n",
    "\n",
    "plt.plot(E, boltzmann_lst, E, boltzmann_lst2, E, boltzmann_lst3)\n",
    "\n"
   ]
  },
  {
   "cell_type": "code",
   "execution_count": 174,
   "metadata": {},
   "outputs": [
    {
     "data": {
      "text/plain": [
       "'TACCG'"
      ]
     },
     "execution_count": 174,
     "metadata": {},
     "output_type": "execute_result"
    }
   ],
   "source": [
    "\n",
    "DNA_dic = {'A':'T', 'T': 'A', 'G':'C','C':'G'}\n",
    "def compose(txt):\n",
    "    retstring = ''\n",
    "    for i in txt:\n",
    "        retstring += DNA_dic[i]\n",
    "    return retstring\n",
    "\n",
    "compose('ATGGC')"
   ]
  },
  {
   "cell_type": "markdown",
   "metadata": {},
   "source": [
    "create two random numpy arrays with shapes (5, 5) and perform a matrix multiplication and print the result. You may have to find the functions you need in the Numpy documentation:"
   ]
  },
  {
   "cell_type": "code",
   "execution_count": 182,
   "metadata": {},
   "outputs": [
    {
     "data": {
      "text/plain": [
       "array([[410750, 361516, 359522, 321350, 458356],\n",
       "       [419364, 426066, 334179, 357995, 381008],\n",
       "       [276617, 299685, 174950, 277627, 264779],\n",
       "       [466678, 441280, 333763, 391470, 520926],\n",
       "       [455083, 410646, 366844, 360516, 482382]])"
      ]
     },
     "execution_count": 182,
     "metadata": {},
     "output_type": "execute_result"
    }
   ],
   "source": [
    "\n",
    "a = np.random.randint(0,500,(5,5))\n",
    "b = np.random.randint(0,500,(5,5))\n",
    "a@b"
   ]
  }
 ],
 "metadata": {
  "kernelspec": {
   "display_name": "base",
   "language": "python",
   "name": "python3"
  },
  "language_info": {
   "codemirror_mode": {
    "name": "ipython",
    "version": 3
   },
   "file_extension": ".py",
   "mimetype": "text/x-python",
   "name": "python",
   "nbconvert_exporter": "python",
   "pygments_lexer": "ipython3",
   "version": "3.12.4"
  }
 },
 "nbformat": 4,
 "nbformat_minor": 2
}
